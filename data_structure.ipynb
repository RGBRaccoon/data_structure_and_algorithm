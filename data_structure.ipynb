{
 "cells": [
  {
   "cell_type": "markdown",
   "metadata": {},
   "source": [
    "### 자료구조 \n",
    "1. 배열 \n",
    "2. 연결리스트 \n",
    "3. 스택 \n",
    "4. 큐 \n",
    "5. 트리 \n",
    "6. 그래프 \n",
    "7. 해시 테이블 \n",
    "8. 힙 "
   ]
  },
  {
   "cell_type": "code",
   "execution_count": null,
   "metadata": {},
   "outputs": [],
   "source": [
    "import numpy as np"
   ]
  },
  {
   "cell_type": "code",
   "execution_count": null,
   "metadata": {},
   "outputs": [],
   "source": [
    "# 배열 \n",
    "# 배열은 데이터를 순서대로 저장하는 자료구조\n",
    "\n",
    "array=[1,2,3,4,5]\n",
    "\n"
   ]
  }
 ],
 "metadata": {
  "language_info": {
   "name": "python"
  }
 },
 "nbformat": 4,
 "nbformat_minor": 2
}
